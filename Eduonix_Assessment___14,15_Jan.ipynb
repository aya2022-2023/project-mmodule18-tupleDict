{
 "cells": [
  {
   "cell_type": "markdown",
   "metadata": {
    "id": "KB9ZI2xAjkF6"
   },
   "source": [
    "## <u>Problem 1</u>\n",
    "\n",
    "A list contains the average daily temperature(in degree Celsius) of a city over a particular week. Write a Python code to find the index of maximum and minimum temperatures"
   ]
  },
  {
   "cell_type": "code",
   "execution_count": 3,
   "metadata": {
    "id": "O3ZtUcxsjkF7"
   },
   "outputs": [],
   "source": [
    "# A list containing average daily temperature over a week \n",
    "temperatures = [34, 40, 29, 33, 42, 37, 39 ]\n",
    "\n"
   ]
  },
  {
   "cell_type": "code",
   "execution_count": 7,
   "metadata": {
    "id": "HRFHv7OXjkGR"
   },
   "outputs": [
    {
     "name": "stdout",
     "output_type": "stream",
     "text": [
      "42\n",
      "4\n"
     ]
    }
   ],
   "source": [
    "# Store the highest temperature\n",
    "max_temp= max(temperatures)\n",
    "print(max_temp)\n",
    "\n",
    "# Index of the element with the highest temperature\n",
    "\n",
    "max_temp_index = temperatures.index(max_temp)\n",
    "print(max_temp_index)"
   ]
  },
  {
   "cell_type": "code",
   "execution_count": 10,
   "metadata": {
    "id": "8lsfVKbcjkGW"
   },
   "outputs": [
    {
     "name": "stdout",
     "output_type": "stream",
     "text": [
      "29\n",
      "2\n"
     ]
    }
   ],
   "source": [
    "# Store the lowest temperature \n",
    "min_temp = min(temperatures)\n",
    "print(min_temp)\n",
    "\n",
    "# Index of the element with the lowest temperature\n",
    "min_temp_index = temperatures.index(min_temp)\n",
    "print(min_temp_index)"
   ]
  },
  {
   "cell_type": "markdown",
   "metadata": {
    "id": "UB2qK0E-sB0G"
   },
   "source": [
    "# Problem-2"
   ]
  },
  {
   "cell_type": "markdown",
   "metadata": {
    "id": "4QuqN8ZHtGeW"
   },
   "source": [
    "Change the values of dictionary to river names"
   ]
  },
  {
   "cell_type": "code",
   "execution_count": 19,
   "metadata": {
    "id": "_pheEFxmtCLQ"
   },
   "outputs": [
    {
     "name": "stdout",
     "output_type": "stream",
     "text": [
      "Dictionary before updation: {'Nepal': 'Kathmandu', 'England': 'London'}\n",
      "Dictionary after updation: {'Nepal': 'Tamor river', 'England': 'La Tamise'}\n"
     ]
    }
   ],
   "source": [
    "city = {\"Nepal\": \"Kathmandu\", \"England\": \"London\"}\n",
    "\n",
    "up_city1 = {\"Nepal\":\"Tamor river\"}\n",
    "up_city2 = {\"England\":\"La Tamise\"}\n",
    "\n",
    "print(\"Dictionary before updation:\",city)\n",
    "city.update(up_city1)\n",
    "city.update(up_city2)\n",
    "print(\"Dictionary after updation:\",city)\n",
    "\n",
    "\n",
    "\n"
   ]
  }
 ],
 "metadata": {
  "colab": {
   "provenance": []
  },
  "kernelspec": {
   "display_name": "Python 3 (ipykernel)",
   "language": "python",
   "name": "python3"
  },
  "language_info": {
   "codemirror_mode": {
    "name": "ipython",
    "version": 3
   },
   "file_extension": ".py",
   "mimetype": "text/x-python",
   "name": "python",
   "nbconvert_exporter": "python",
   "pygments_lexer": "ipython3",
   "version": "3.9.13"
  }
 },
 "nbformat": 4,
 "nbformat_minor": 1
}
